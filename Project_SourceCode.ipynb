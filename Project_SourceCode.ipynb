{
 "cells": [
  {
   "cell_type": "markdown",
   "id": "f42fb7c8",
   "metadata": {},
   "source": [
    "### Step 1: Import Library"
   ]
  },
  {
   "cell_type": "code",
   "execution_count": 1,
   "id": "6df49dfa",
   "metadata": {},
   "outputs": [],
   "source": [
    "import pandas as pd\n",
    "import numpy as np\n",
    "import matplotlib.pyplot as plt\n",
    "import seaborn as sns\n",
    "\n",
    "#Library for data splitting\n",
    "from sklearn.model_selection import train_test_split\n",
    "#Library for data standardization\n",
    "from sklearn.preprocessing import StandardScaler\n",
    "#Libraries for KNN\n",
    "from sklearn.neighbors import KNeighborsClassifier\n",
    "from sklearn import metrics\n",
    "#Libraries for Decision Tree Classifier\n",
    "from sklearn.metrics import precision_score, recall_score, accuracy_score, confusion_matrix\n",
    "from sklearn.metrics import classification_report\n",
    "from sklearn.tree import DecisionTreeClassifier\n",
    "#Library for SVM\n",
    "from sklearn import svm"
   ]
  },
  {
   "cell_type": "markdown",
   "id": "104e7d12",
   "metadata": {},
   "source": [
    "### Step 2: Import Dataset"
   ]
  },
  {
   "cell_type": "code",
   "execution_count": 2,
   "id": "58ef87ce",
   "metadata": {},
   "outputs": [
    {
     "name": "stdout",
     "output_type": "stream",
     "text": [
      "C:\\Users\\alan-\\Desktop\n"
     ]
    }
   ],
   "source": [
    "cd C:/Users/alan-/Desktop/"
   ]
  },
  {
   "cell_type": "code",
   "execution_count": 3,
   "id": "1af0e962",
   "metadata": {},
   "outputs": [
    {
     "data": {
      "text/html": [
       "<div>\n",
       "<style scoped>\n",
       "    .dataframe tbody tr th:only-of-type {\n",
       "        vertical-align: middle;\n",
       "    }\n",
       "\n",
       "    .dataframe tbody tr th {\n",
       "        vertical-align: top;\n",
       "    }\n",
       "\n",
       "    .dataframe thead th {\n",
       "        text-align: right;\n",
       "    }\n",
       "</style>\n",
       "<table border=\"1\" class=\"dataframe\">\n",
       "  <thead>\n",
       "    <tr style=\"text-align: right;\">\n",
       "      <th></th>\n",
       "      <th>age</th>\n",
       "      <th>sex</th>\n",
       "      <th>cp</th>\n",
       "      <th>trestbps</th>\n",
       "      <th>chol</th>\n",
       "      <th>fbs</th>\n",
       "      <th>restecg</th>\n",
       "      <th>thalach</th>\n",
       "      <th>exang</th>\n",
       "      <th>oldpeak</th>\n",
       "      <th>slope</th>\n",
       "      <th>ca</th>\n",
       "      <th>thal</th>\n",
       "      <th>target</th>\n",
       "    </tr>\n",
       "  </thead>\n",
       "  <tbody>\n",
       "    <tr>\n",
       "      <th>0</th>\n",
       "      <td>63</td>\n",
       "      <td>1</td>\n",
       "      <td>3</td>\n",
       "      <td>145</td>\n",
       "      <td>233</td>\n",
       "      <td>1</td>\n",
       "      <td>0</td>\n",
       "      <td>150</td>\n",
       "      <td>0</td>\n",
       "      <td>2.3</td>\n",
       "      <td>0</td>\n",
       "      <td>0</td>\n",
       "      <td>1</td>\n",
       "      <td>1</td>\n",
       "    </tr>\n",
       "    <tr>\n",
       "      <th>1</th>\n",
       "      <td>37</td>\n",
       "      <td>1</td>\n",
       "      <td>2</td>\n",
       "      <td>130</td>\n",
       "      <td>250</td>\n",
       "      <td>0</td>\n",
       "      <td>1</td>\n",
       "      <td>187</td>\n",
       "      <td>0</td>\n",
       "      <td>3.5</td>\n",
       "      <td>0</td>\n",
       "      <td>0</td>\n",
       "      <td>2</td>\n",
       "      <td>1</td>\n",
       "    </tr>\n",
       "    <tr>\n",
       "      <th>2</th>\n",
       "      <td>41</td>\n",
       "      <td>0</td>\n",
       "      <td>1</td>\n",
       "      <td>130</td>\n",
       "      <td>204</td>\n",
       "      <td>0</td>\n",
       "      <td>0</td>\n",
       "      <td>172</td>\n",
       "      <td>0</td>\n",
       "      <td>1.4</td>\n",
       "      <td>2</td>\n",
       "      <td>0</td>\n",
       "      <td>2</td>\n",
       "      <td>1</td>\n",
       "    </tr>\n",
       "    <tr>\n",
       "      <th>3</th>\n",
       "      <td>56</td>\n",
       "      <td>1</td>\n",
       "      <td>1</td>\n",
       "      <td>120</td>\n",
       "      <td>236</td>\n",
       "      <td>0</td>\n",
       "      <td>1</td>\n",
       "      <td>178</td>\n",
       "      <td>0</td>\n",
       "      <td>0.8</td>\n",
       "      <td>2</td>\n",
       "      <td>0</td>\n",
       "      <td>2</td>\n",
       "      <td>1</td>\n",
       "    </tr>\n",
       "    <tr>\n",
       "      <th>4</th>\n",
       "      <td>57</td>\n",
       "      <td>0</td>\n",
       "      <td>0</td>\n",
       "      <td>120</td>\n",
       "      <td>354</td>\n",
       "      <td>0</td>\n",
       "      <td>1</td>\n",
       "      <td>163</td>\n",
       "      <td>1</td>\n",
       "      <td>0.6</td>\n",
       "      <td>2</td>\n",
       "      <td>0</td>\n",
       "      <td>2</td>\n",
       "      <td>1</td>\n",
       "    </tr>\n",
       "  </tbody>\n",
       "</table>\n",
       "</div>"
      ],
      "text/plain": [
       "   age  sex  cp  trestbps  chol  fbs  restecg  thalach  exang  oldpeak  slope  \\\n",
       "0   63    1   3       145   233    1        0      150      0      2.3      0   \n",
       "1   37    1   2       130   250    0        1      187      0      3.5      0   \n",
       "2   41    0   1       130   204    0        0      172      0      1.4      2   \n",
       "3   56    1   1       120   236    0        1      178      0      0.8      2   \n",
       "4   57    0   0       120   354    0        1      163      1      0.6      2   \n",
       "\n",
       "   ca  thal  target  \n",
       "0   0     1       1  \n",
       "1   0     2       1  \n",
       "2   0     2       1  \n",
       "3   0     2       1  \n",
       "4   0     2       1  "
      ]
     },
     "execution_count": 3,
     "metadata": {},
     "output_type": "execute_result"
    }
   ],
   "source": [
    "df= pd.read_csv('heart_disease.csv')\n",
    "df.head()"
   ]
  },
  {
   "cell_type": "markdown",
   "id": "c97c8f18",
   "metadata": {},
   "source": [
    "### Step 3: Data Exploration"
   ]
  },
  {
   "cell_type": "code",
   "execution_count": 4,
   "id": "b6857c03",
   "metadata": {},
   "outputs": [
    {
     "data": {
      "text/plain": [
       "(303, 14)"
      ]
     },
     "execution_count": 4,
     "metadata": {},
     "output_type": "execute_result"
    }
   ],
   "source": [
    "df.shape"
   ]
  },
  {
   "cell_type": "code",
   "execution_count": 5,
   "id": "11e45d64",
   "metadata": {},
   "outputs": [
    {
     "data": {
      "text/plain": [
       "Index(['age', 'sex', 'cp', 'trestbps', 'chol', 'fbs', 'restecg', 'thalach',\n",
       "       'exang', 'oldpeak', 'slope', 'ca', 'thal', 'target'],\n",
       "      dtype='object')"
      ]
     },
     "execution_count": 5,
     "metadata": {},
     "output_type": "execute_result"
    }
   ],
   "source": [
    "df.columns"
   ]
  },
  {
   "cell_type": "code",
   "execution_count": 6,
   "id": "1156c2cd",
   "metadata": {},
   "outputs": [
    {
     "data": {
      "text/plain": [
       "age           int64\n",
       "sex           int64\n",
       "cp            int64\n",
       "trestbps      int64\n",
       "chol          int64\n",
       "fbs           int64\n",
       "restecg       int64\n",
       "thalach       int64\n",
       "exang         int64\n",
       "oldpeak     float64\n",
       "slope         int64\n",
       "ca            int64\n",
       "thal          int64\n",
       "target        int64\n",
       "dtype: object"
      ]
     },
     "execution_count": 6,
     "metadata": {},
     "output_type": "execute_result"
    }
   ],
   "source": [
    "df.dtypes"
   ]
  },
  {
   "cell_type": "code",
   "execution_count": 7,
   "id": "5a5cf2f5",
   "metadata": {},
   "outputs": [
    {
     "data": {
      "text/plain": [
       "age         0\n",
       "sex         0\n",
       "cp          0\n",
       "trestbps    0\n",
       "chol        0\n",
       "fbs         0\n",
       "restecg     0\n",
       "thalach     0\n",
       "exang       0\n",
       "oldpeak     0\n",
       "slope       0\n",
       "ca          0\n",
       "thal        0\n",
       "target      0\n",
       "dtype: int64"
      ]
     },
     "execution_count": 7,
     "metadata": {},
     "output_type": "execute_result"
    }
   ],
   "source": [
    "#Check for null values\n",
    "df.isnull().sum()"
   ]
  },
  {
   "cell_type": "markdown",
   "id": "074c26e7",
   "metadata": {},
   "source": [
    "### Step 4: Feature Selection"
   ]
  },
  {
   "cell_type": "code",
   "execution_count": 8,
   "id": "266299f4",
   "metadata": {},
   "outputs": [
    {
     "data": {
      "image/png": "[encoded data removed]",
      "text/plain": [
       "<Figure size 1080x1080 with 2 Axes>"
      ]
     },
     "metadata": {
      "needs_background": "light"
     },
     "output_type": "display_data"
    }
   ],
   "source": [
    "#Using heatmap to show feature selection\n",
    "corrmat = df.corr()\n",
    "top_corr_features = corrmat.index\n",
    "plt.figure(figsize=(15,15))\n",
    "g=sns.heatmap(df[top_corr_features].corr(),annot=True,cmap=\"YlOrRd\")\n",
    "plt.show(g)"
   ]
  },
  {
   "cell_type": "markdown",
   "id": "324a854a",
   "metadata": {},
   "source": [
    "The feature exang is highly correlated with target followed by cp, oldpeak, thalack, ca, slope and thal."
   ]
  },
  {
   "cell_type": "markdown",
   "id": "daef566d",
   "metadata": {},
   "source": [
    "### Step 5: Data Splitting"
   ]
  },
  {
   "cell_type": "code",
   "execution_count": 9,
   "id": "fbc9e714",
   "metadata": {},
   "outputs": [],
   "source": [
    "#Choose the 7 most important features\n",
    "x = df[['cp', 'thalach', 'exang', 'oldpeak', 'ca','slope','thal']]\n",
    "y = df['target']\n",
    "\n",
    "#Splitting the dataset into 60% Train set and 40% Test set\n",
    "x_train60,x_test40,y_train60,y_test40 = train_test_split(x,y,test_size=0.40,random_state= 0)\n",
    "#Splitting the dataset into 70% Train set and 30% Test set\n",
    "x_train70,x_test30,y_train70,y_test30 = train_test_split(x,y,test_size=0.30,random_state= 0)\n",
    "#Splitting the dataset into 80% Train set and 20% Test set\n",
    "x_train80,x_test20,y_train80,y_test20 = train_test_split(x,y,test_size=0.20,random_state= 0)"
   ]
  },
  {
   "cell_type": "markdown",
   "id": "a50d7ff4",
   "metadata": {},
   "source": [
    "### Step 6: Feature Standardization\n",
    "Feature Standardization is done after data splitting and not before to avoid information leakage."
   ]
  },
  {
   "cell_type": "code",
   "execution_count": 10,
   "id": "7cd72b8b",
   "metadata": {},
   "outputs": [],
   "source": [
    "sc = StandardScaler()\n",
    "x_train60 = sc.fit_transform(x_train60)\n",
    "x_test40 = sc.transform(x_test40)\n",
    "x_train70 = sc.fit_transform(x_train70)\n",
    "x_test30 = sc.transform(x_test30)\n",
    "x_train80= sc.fit_transform(x_train80)\n",
    "x_test20 = sc.transform(x_test20)"
   ]
  },
  {
   "cell_type": "markdown",
   "id": "9c2627c9",
   "metadata": {},
   "source": [
    "### Step 7: Building the Machine Learning Models"
   ]
  },
  {
   "cell_type": "markdown",
   "id": "4ef1dca6",
   "metadata": {},
   "source": [
    "### K-Nearest Neighbors (KNN)\n",
    "#### Finding the suitable k value"
   ]
  },
  {
   "cell_type": "code",
   "execution_count": 11,
   "id": "f38232f4",
   "metadata": {},
   "outputs": [
    {
     "name": "stdout",
     "output_type": "stream",
     "text": [
      "{1: 0.8032786885245902, 2: 0.7950819672131147, 3: 0.8114754098360656, 4: 0.8278688524590164, 5: 0.8032786885245902, 6: 0.8278688524590164, 7: 0.7950819672131147, 8: 0.8114754098360656, 9: 0.819672131147541, 10: 0.8278688524590164, 11: 0.8278688524590164, 12: 0.819672131147541, 13: 0.8114754098360656, 14: 0.8114754098360656, 15: 0.7868852459016393, 16: 0.7950819672131147, 17: 0.7868852459016393, 18: 0.7950819672131147, 19: 0.7704918032786885, 20: 0.7950819672131147, 21: 0.7704918032786885, 22: 0.7868852459016393, 23: 0.7622950819672131, 24: 0.7622950819672131, 25: 0.7622950819672131, 26: 0.7786885245901639, 27: 0.7868852459016393, 28: 0.7868852459016393, 29: 0.7868852459016393}\n",
      "{1: 0.8241758241758241, 2: 0.7802197802197802, 3: 0.8021978021978022, 4: 0.8681318681318682, 5: 0.8241758241758241, 6: 0.8571428571428571, 7: 0.8241758241758241, 8: 0.8131868131868132, 9: 0.7912087912087912, 10: 0.8021978021978022, 11: 0.8131868131868132, 12: 0.8241758241758241, 13: 0.8131868131868132, 14: 0.8131868131868132, 15: 0.7912087912087912, 16: 0.7912087912087912, 17: 0.8021978021978022, 18: 0.7912087912087912, 19: 0.7802197802197802, 20: 0.7912087912087912, 21: 0.7912087912087912, 22: 0.7912087912087912, 23: 0.7912087912087912, 24: 0.7912087912087912, 25: 0.8021978021978022, 26: 0.7912087912087912, 27: 0.8021978021978022, 28: 0.7912087912087912, 29: 0.7912087912087912}\n",
      "{1: 0.7868852459016393, 2: 0.8360655737704918, 3: 0.8524590163934426, 4: 0.9016393442622951, 5: 0.8360655737704918, 6: 0.8852459016393442, 7: 0.8360655737704918, 8: 0.8032786885245902, 9: 0.8032786885245902, 10: 0.8032786885245902, 11: 0.819672131147541, 12: 0.8360655737704918, 13: 0.8360655737704918, 14: 0.8524590163934426, 15: 0.8524590163934426, 16: 0.8524590163934426, 17: 0.8524590163934426, 18: 0.8524590163934426, 19: 0.8524590163934426, 20: 0.8524590163934426, 21: 0.8524590163934426, 22: 0.8524590163934426, 23: 0.819672131147541, 24: 0.8524590163934426, 25: 0.8524590163934426, 26: 0.8524590163934426, 27: 0.8524590163934426, 28: 0.8360655737704918, 29: 0.8360655737704918}\n"
     ]
    }
   ],
   "source": [
    "# Fitting classifier to the 60% Train set\n",
    "k_range = range(1,30)\n",
    "scores1 = {}\n",
    "scores_list1 = []\n",
    "for k in k_range:\n",
    "    classifier = KNeighborsClassifier(n_neighbors = k)\n",
    "    classifier.fit(x_train60, y_train60)\n",
    "    y_pred = classifier.predict(x_test40)\n",
    "    scores1[k] = metrics.accuracy_score(y_test40, y_pred)\n",
    "    scores_list1.append(metrics.accuracy_score(y_test40, y_pred))\n",
    "print(scores1)\n",
    "\n",
    "# Fitting classifier to the 70% Train set\n",
    "scores2 = {}\n",
    "scores_list2 = []\n",
    "for k in k_range:\n",
    "    classifier = KNeighborsClassifier(n_neighbors = k)\n",
    "    classifier.fit(x_train70, y_train70)\n",
    "    y_pred = classifier.predict(x_test30)\n",
    "    scores2[k] = metrics.accuracy_score(y_test30, y_pred)\n",
    "    scores_list2.append(metrics.accuracy_score(y_test30, y_pred))\n",
    "print(scores2)\n",
    "\n",
    "# Fitting classifier to the 80% Train set\n",
    "scores3 = {}\n",
    "scores_list3 = []\n",
    "for k in k_range:\n",
    "    classifier = KNeighborsClassifier(n_neighbors = k)\n",
    "    classifier.fit(x_train80, y_train80)\n",
    "    y_pred = classifier.predict(x_test20)\n",
    "    scores3[k] = metrics.accuracy_score(y_test20, y_pred)\n",
    "    scores_list3.append(metrics.accuracy_score(y_test20, y_pred))\n",
    "print(scores3)"
   ]
  },
  {
   "cell_type": "code",
   "execution_count": 12,
   "id": "e246b70b",
   "metadata": {},
   "outputs": [
    {
     "data": {
      "image/png": "[encoded data removed]",
      "text/plain": [
       "<Figure size 432x288 with 1 Axes>"
      ]
     },
     "metadata": {
      "needs_background": "light"
     },
     "output_type": "display_data"
    },
    {
     "data": {
      "image/png": "[encoded data removed]",
      "text/plain": [
       "<Figure size 432x288 with 1 Axes>"
      ]
     },
     "metadata": {
      "needs_background": "light"
     },
     "output_type": "display_data"
    },
    {
     "data": {
      "image/png": "[encoded data removed]",
      "text/plain": [
       "<Figure size 432x288 with 1 Axes>"
      ]
     },
     "metadata": {
      "needs_background": "light"
     },
     "output_type": "display_data"
    }
   ],
   "source": [
    "#plot the relationship between K and the testing accuracy for 3 different division of data\n",
    "p = plt.plot(k_range,scores_list1)\n",
    "plt.xlabel('Value of K for KNN')\n",
    "plt.ylabel('Testing Accuracy')\n",
    "plt.show(p)\n",
    "q = plt.plot(k_range,scores_list2)\n",
    "plt.xlabel('Value of K for KNN')\n",
    "plt.ylabel('Testing Accuracy')\n",
    "plt.show(q)\n",
    "r = plt.plot(k_range,scores_list3)\n",
    "plt.xlabel('Value of K for KNN')\n",
    "plt.ylabel('Testing Accuracy')\n",
    "plt.show(r)"
   ]
  },
  {
   "cell_type": "code",
   "execution_count": 13,
   "id": "80bc16c1",
   "metadata": {},
   "outputs": [
    {
     "data": {
      "text/plain": [
       "KNeighborsClassifier(n_neighbors=4)"
      ]
     },
     "execution_count": 13,
     "metadata": {},
     "output_type": "execute_result"
    }
   ],
   "source": [
    "#I choose 4 as my k_value\n",
    "knn1 = KNeighborsClassifier(n_neighbors = 4)\n",
    "knn1.fit(x_train60,y_train60)\n",
    "knn2 = KNeighborsClassifier(n_neighbors = 4)\n",
    "knn2.fit(x_train70,y_train70)\n",
    "knn3 = KNeighborsClassifier(n_neighbors = 4)\n",
    "knn3.fit(x_train80,y_train80)"
   ]
  },
  {
   "cell_type": "code",
   "execution_count": 14,
   "id": "03cbd34a",
   "metadata": {},
   "outputs": [],
   "source": [
    "# Predicting the Test set results\n",
    "pred_knn1 = knn1.predict(x_test40)\n",
    "pred_knn2 = knn2.predict(x_test30)\n",
    "pred_knn3 = knn3.predict(x_test20)\n",
    "\n",
    "trainpred_knn1 = knn1.predict(x_train60)\n",
    "trainpred_knn2 = knn2.predict(x_train70)\n",
    "trainpred_knn3 = knn3.predict(x_train80)"
   ]
  },
  {
   "cell_type": "code",
   "execution_count": 15,
   "id": "bd1c2e8c",
   "metadata": {},
   "outputs": [
    {
     "name": "stdout",
     "output_type": "stream",
     "text": [
      "60% Train & 40% Test\n",
      "Confusion Matrix:\n",
      " [[45 14]\n",
      " [ 7 56]]\n",
      "Accuracy: 0.82787\n",
      "\n",
      "70% Train & 30% Test\n",
      "Confusion Matrix:\n",
      " [[36  8]\n",
      " [ 4 43]]\n",
      "Accuracy: 0.86813\n",
      "\n",
      "80% Train & 20% Test\n",
      "Confusion Matrix:\n",
      " [[25  2]\n",
      " [ 4 30]]\n",
      "Accuracy: 0.90164\n"
     ]
    }
   ],
   "source": [
    "#Evaluate model\n",
    "print(\"60% Train & 40% Test\")\n",
    "print('Confusion Matrix:\\n',  format(confusion_matrix(y_test40, pred_knn1)))\n",
    "print('Accuracy:', str.format('{0:.5f}',accuracy_score(y_test40, pred_knn1)))\n",
    "print(\"\\n70% Train & 30% Test\")\n",
    "print('Confusion Matrix:\\n',  format(confusion_matrix(y_test30, pred_knn2)))\n",
    "print('Accuracy:', str.format('{0:.5f}', accuracy_score(y_test30, pred_knn2)))\n",
    "print(\"\\n80% Train & 20% Test\")\n",
    "print('Confusion Matrix:\\n',  format(confusion_matrix(y_test20, pred_knn3)))\n",
    "print('Accuracy:', str.format('{0:.5f}', accuracy_score(y_test20, pred_knn3)))"
   ]
  },
  {
   "cell_type": "code",
   "execution_count": 16,
   "id": "6b73fc62",
   "metadata": {},
   "outputs": [
    {
     "name": "stdout",
     "output_type": "stream",
     "text": [
      "Overfitting Checking for KNN\n",
      "60% Train & 40% Test\n",
      "Accuracy for test set: 0.82787\n",
      "Accuracy for train set: 0.86188\n",
      "\n",
      "70% Train & 30% Test\n",
      "Accuracy for test set: 0.86813\n",
      "Accuracy for train set: 0.85849\n",
      "\n",
      "80% Train & 20% Test\n",
      "Accuracy for test set: 0.90164\n",
      "Accuracy for train set: 0.86777\n"
     ]
    }
   ],
   "source": [
    "#Check overfitting\n",
    "print(\"Overfitting Checking for KNN\")\n",
    "print(\"60% Train & 40% Test\")\n",
    "print('Accuracy for test set:', str.format('{0:.5f}', accuracy_score(y_test40, pred_knn1)))\n",
    "print('Accuracy for train set:', str.format('{0:.5f}', accuracy_score(y_train60, trainpred_knn1)))\n",
    "print(\"\\n70% Train & 30% Test\")\n",
    "print('Accuracy for test set:', str.format('{0:.5f}', accuracy_score(y_test30, pred_knn2)))\n",
    "print('Accuracy for train set:', str.format('{0:.5f}', accuracy_score(y_train70, trainpred_knn2)))\n",
    "print(\"\\n80% Train & 20% Test\")\n",
    "print('Accuracy for test set:', str.format('{0:.5f}', accuracy_score(y_test20, pred_knn3)))\n",
    "print('Accuracy for train set:', str.format('{0:.5f}', accuracy_score(y_train80, trainpred_knn3)))"
   ]
  },
  {
   "cell_type": "markdown",
   "id": "54b026a3",
   "metadata": {},
   "source": [
    "### Decision Tree\n",
    "#### Finding the suitable max_depth value"
   ]
  },
  {
   "cell_type": "code",
   "execution_count": 17,
   "id": "c4e0cb10",
   "metadata": {},
   "outputs": [
    {
     "name": "stdout",
     "output_type": "stream",
     "text": [
      "[0.7131147540983607, 0.7213114754098361, 0.7950819672131147, 0.8032786885245902, 0.7786885245901639, 0.7295081967213115]\n",
      "[0.7692307692307693, 0.7362637362637363, 0.8131868131868132, 0.7472527472527473, 0.7802197802197802, 0.8021978021978022]\n",
      "[0.7868852459016393, 0.7540983606557377, 0.8524590163934426, 0.8360655737704918, 0.8524590163934426, 0.8360655737704918]\n"
     ]
    }
   ],
   "source": [
    "max_depth_range = list(range(1, 7))\n",
    "accuracy = []\n",
    "for depth in max_depth_range:\n",
    "    clf = DecisionTreeClassifier(max_depth = depth, random_state = 0)\n",
    "    clf.fit(x_train60, y_train60)\n",
    "    score = clf.score(x_test40, y_test40)\n",
    "    accuracy.append(score)\n",
    "print(accuracy)\n",
    "\n",
    "accuracy = []\n",
    "for depth in max_depth_range:\n",
    "    clf = DecisionTreeClassifier(max_depth = depth, random_state = 0)\n",
    "    clf.fit(x_train70, y_train70)\n",
    "    score = clf.score(x_test30, y_test30)\n",
    "    accuracy.append(score)\n",
    "print(accuracy)\n",
    "\n",
    "accuracy = []\n",
    "for depth in max_depth_range:\n",
    "    clf = DecisionTreeClassifier(max_depth = depth, random_state = 0)\n",
    "    clf.fit(x_train80, y_train80)\n",
    "    score = clf.score(x_test20, y_test20)\n",
    "    accuracy.append(score)\n",
    "print(accuracy)"
   ]
  },
  {
   "cell_type": "code",
   "execution_count": 18,
   "id": "08cc656b",
   "metadata": {},
   "outputs": [],
   "source": [
    "dtc1 = DecisionTreeClassifier(criterion='gini',max_depth=3, random_state = 0)\n",
    "dtc2 = DecisionTreeClassifier(criterion='gini',max_depth=3, random_state = 0)\n",
    "dtc3 = DecisionTreeClassifier(criterion='gini',max_depth=3, random_state = 0)"
   ]
  },
  {
   "cell_type": "code",
   "execution_count": 19,
   "id": "72f8e0f8",
   "metadata": {},
   "outputs": [
    {
     "data": {
      "text/plain": [
       "DecisionTreeClassifier(max_depth=3, random_state=0)"
      ]
     },
     "execution_count": 19,
     "metadata": {},
     "output_type": "execute_result"
    }
   ],
   "source": [
    "dtc1.fit(x_train60,y_train60)\n",
    "dtc2.fit(x_train70,y_train70)\n",
    "dtc3.fit(x_train80,y_train80)"
   ]
  },
  {
   "cell_type": "code",
   "execution_count": 20,
   "id": "e9fd32c0",
   "metadata": {},
   "outputs": [],
   "source": [
    "# Predicting the Test set results\n",
    "pred_dtc1 = dtc1.predict(x_test40)\n",
    "pred_dtc2 = dtc2.predict(x_test30)\n",
    "pred_dtc3 = dtc3.predict(x_test20)\n",
    "\n",
    "trainpred_dtc1 = dtc1.predict(x_train60)\n",
    "trainpred_dtc2 = dtc2.predict(x_train70)\n",
    "trainpred_dtc3 = dtc3.predict(x_train80)"
   ]
  },
  {
   "cell_type": "code",
   "execution_count": 21,
   "id": "47e761c7",
   "metadata": {},
   "outputs": [
    {
     "name": "stdout",
     "output_type": "stream",
     "text": [
      "60% Train & 40% Test\n",
      "Confusion Matrix:\n",
      " [[42 17]\n",
      " [ 8 55]]\n",
      "Accuracy: 0.79508\n",
      "\n",
      "70% Train & 30% Test\n",
      "Confusion Matrix:\n",
      " [[32 12]\n",
      " [ 5 42]]\n",
      "Accuracy: 0.81319\n",
      "\n",
      "80% Train & 20% Test\n",
      "Confusion Matrix:\n",
      " [[21  6]\n",
      " [ 3 31]]\n",
      "Accuracy: 0.85246\n"
     ]
    }
   ],
   "source": [
    "#Evaluate model\n",
    "print(\"60% Train & 40% Test\")\n",
    "print('Confusion Matrix:\\n',  format(confusion_matrix(y_test40, pred_dtc1)))\n",
    "print('Accuracy:', str.format('{0:.5f}', accuracy_score(y_test40, pred_dtc1)))\n",
    "print(\"\\n70% Train & 30% Test\")\n",
    "print('Confusion Matrix:\\n',  format(confusion_matrix(y_test30, pred_dtc2)))\n",
    "print('Accuracy:', str.format('{0:.5f}', accuracy_score(y_test30, pred_dtc2)))\n",
    "print(\"\\n80% Train & 20% Test\")\n",
    "print('Confusion Matrix:\\n',  format(confusion_matrix(y_test20, pred_dtc3)))\n",
    "print('Accuracy:', str.format('{0:.5f}', accuracy_score(y_test20, pred_dtc3)))"
   ]
  },
  {
   "cell_type": "code",
   "execution_count": 22,
   "id": "c437a4ff",
   "metadata": {},
   "outputs": [
    {
     "name": "stdout",
     "output_type": "stream",
     "text": [
      "Overfitting Checking for Decision Tree\n",
      "60% Train & 40% Test\n",
      "Accuracy for test set: 0.79508\n",
      "Accuracy for train set: 0.86188\n",
      "\n",
      "70% Train & 30% Test\n",
      "Accuracy for test set: 0.81319\n",
      "Accuracy for train set: 0.86792\n",
      "\n",
      "80% Train & 20% Test\n",
      "Accuracy for test set: 0.85246\n",
      "Accuracy for train set: 0.85124\n"
     ]
    }
   ],
   "source": [
    "#Check overfitting\n",
    "print(\"Overfitting Checking for Decision Tree\")\n",
    "print(\"60% Train & 40% Test\")\n",
    "print('Accuracy for test set:', str.format('{0:.5f}', accuracy_score(y_test40, pred_dtc1)))\n",
    "print('Accuracy for train set:', str.format('{0:.5f}', accuracy_score(y_train60, trainpred_dtc1)))\n",
    "print(\"\\n70% Train & 30% Test\")\n",
    "print('Accuracy for test set:', str.format('{0:.5f}', accuracy_score(y_test30, pred_dtc2)))\n",
    "print('Accuracy for train set:', str.format('{0:.5f}', accuracy_score(y_train70, trainpred_dtc2)))\n",
    "print(\"\\n80% Train & 20% Test\")\n",
    "print('Accuracy for test set:', str.format('{0:.5f}', accuracy_score(y_test20, pred_dtc3)))\n",
    "print('Accuracy for train set:', str.format('{0:.5f}', accuracy_score(y_train80, trainpred_dtc3)))"
   ]
  },
  {
   "cell_type": "markdown",
   "id": "13d7ff8c",
   "metadata": {},
   "source": [
    "### Support Vector Machine"
   ]
  },
  {
   "cell_type": "code",
   "execution_count": 23,
   "id": "9929ff73",
   "metadata": {},
   "outputs": [],
   "source": [
    "svm1 = svm.SVC(random_state = 0)\n",
    "svm2 = svm.SVC(random_state = 0)\n",
    "svm3 = svm.SVC(random_state = 0)"
   ]
  },
  {
   "cell_type": "code",
   "execution_count": 24,
   "id": "d3b183ff",
   "metadata": {},
   "outputs": [
    {
     "data": {
      "text/plain": [
       "SVC(random_state=0)"
      ]
     },
     "execution_count": 24,
     "metadata": {},
     "output_type": "execute_result"
    }
   ],
   "source": [
    "svm1.fit(x_train60,y_train60)\n",
    "svm2.fit(x_train70,y_train70)\n",
    "svm3.fit(x_train80,y_train80)"
   ]
  },
  {
   "cell_type": "code",
   "execution_count": 25,
   "id": "0c4d55f1",
   "metadata": {},
   "outputs": [],
   "source": [
    "# Predicting the Test set results\n",
    "pred_svm1 = svm1.predict(x_test40)\n",
    "pred_svm2 = svm2.predict(x_test30)\n",
    "pred_svm3 = svm3.predict(x_test20)\n",
    "\n",
    "trainpred_svm1 = svm1.predict(x_train60)\n",
    "trainpred_svm2 = svm2.predict(x_train70)\n",
    "trainpred_svm3 = svm3.predict(x_train80)"
   ]
  },
  {
   "cell_type": "code",
   "execution_count": 26,
   "id": "5f9d9110",
   "metadata": {},
   "outputs": [
    {
     "name": "stdout",
     "output_type": "stream",
     "text": [
      "60% Train & 40% Test\n",
      "Confusion Matrix:\n",
      " [[42 17]\n",
      " [ 6 57]]\n",
      "Accuracy: 0.81148\n",
      "\n",
      "70% Train & 30% Test\n",
      "Confusion Matrix:\n",
      " [[31 13]\n",
      " [ 4 43]]\n",
      "Accuracy: 0.81319\n",
      "\n",
      "80% Train & 20% Test\n",
      "Confusion Matrix:\n",
      " [[20  7]\n",
      " [ 2 32]]\n",
      "Accuracy: 0.85246\n"
     ]
    }
   ],
   "source": [
    "#Evaluate model\n",
    "print(\"60% Train & 40% Test\")\n",
    "print('Confusion Matrix:\\n',  format(confusion_matrix(y_test40, pred_svm1)))\n",
    "print('Accuracy:', str.format('{0:.5f}', accuracy_score(y_test40, pred_svm1)))\n",
    "print(\"\\n70% Train & 30% Test\")\n",
    "print('Confusion Matrix:\\n',  format(confusion_matrix(y_test30, pred_svm2)))\n",
    "print('Accuracy:', str.format('{0:.5f}', accuracy_score(y_test30, pred_svm2)))\n",
    "print(\"\\n80% Train & 20% Test\")\n",
    "print('Confusion Matrix:\\n',  format(confusion_matrix(y_test20, pred_svm3)))\n",
    "print('Accuracy:', str.format('{0:.5f}', accuracy_score(y_test20, pred_svm3)))"
   ]
  },
  {
   "cell_type": "code",
   "execution_count": 27,
   "id": "b2781189",
   "metadata": {},
   "outputs": [
    {
     "name": "stdout",
     "output_type": "stream",
     "text": [
      "Overfitting Checking for SVM\n",
      "60% Train & 40% Test\n",
      "Accuracy for test set: 0.81148\n",
      "Accuracy for train set: 0.90055\n",
      "\n",
      "70% Train & 30% Test\n",
      "Accuracy for test set: 0.81319\n",
      "Accuracy for train set: 0.88208\n",
      "\n",
      "80% Train & 20% Test\n",
      "Accuracy for test set: 0.85246\n",
      "Accuracy for train set: 0.87603\n"
     ]
    }
   ],
   "source": [
    "#Check overfitting\n",
    "print(\"Overfitting Checking for SVM\")\n",
    "print(\"60% Train & 40% Test\")\n",
    "print('Accuracy for test set:', str.format('{0:.5f}', accuracy_score(y_test40, pred_svm1)))\n",
    "print('Accuracy for train set:', str.format('{0:.5f}', accuracy_score(y_train60, trainpred_svm1)))\n",
    "print(\"\\n70% Train & 30% Test\")\n",
    "print('Accuracy for test set:', str.format('{0:.5f}', accuracy_score(y_test30, pred_svm2)))\n",
    "print('Accuracy for train set:', str.format('{0:.5f}', accuracy_score(y_train70, trainpred_svm2)))\n",
    "print(\"\\n80% Train & 20% Test\")\n",
    "print('Accuracy for test set:', str.format('{0:.5f}', accuracy_score(y_test20, pred_svm3)))\n",
    "print('Accuracy for train set:', str.format('{0:.5f}', accuracy_score(y_train80, trainpred_svm3)))"
   ]
  },
  {
   "cell_type": "markdown",
   "id": "0ae64642",
   "metadata": {},
   "source": [
    "### Classification report for 3 different model"
   ]
  },
  {
   "cell_type": "code",
   "execution_count": 28,
   "id": "ed7ded9a",
   "metadata": {},
   "outputs": [
    {
     "name": "stdout",
     "output_type": "stream",
     "text": [
      "Classification Report for KNN Model with 80% Train & 20% Test \n",
      "\n",
      "              precision    recall  f1-score   support\n",
      "\n",
      "           0       0.86      0.93      0.89        27\n",
      "           1       0.94      0.88      0.91        34\n",
      "\n",
      "    accuracy                           0.90        61\n",
      "   macro avg       0.90      0.90      0.90        61\n",
      "weighted avg       0.90      0.90      0.90        61\n",
      "\n"
     ]
    }
   ],
   "source": [
    "print(\"Classification Report for KNN Model with 80% Train & 20% Test\", '\\n')\n",
    "print(classification_report(y_test20, pred_knn3))"
   ]
  },
  {
   "cell_type": "code",
   "execution_count": 29,
   "id": "f77424dd",
   "metadata": {},
   "outputs": [
    {
     "name": "stdout",
     "output_type": "stream",
     "text": [
      "Classification Report for Decision Tree Model with 80% Train & 20% Test \n",
      "\n",
      "              precision    recall  f1-score   support\n",
      "\n",
      "           0       0.88      0.78      0.82        27\n",
      "           1       0.84      0.91      0.87        34\n",
      "\n",
      "    accuracy                           0.85        61\n",
      "   macro avg       0.86      0.84      0.85        61\n",
      "weighted avg       0.85      0.85      0.85        61\n",
      "\n"
     ]
    }
   ],
   "source": [
    "print(\"Classification Report for Decision Tree Model with 80% Train & 20% Test\", '\\n')\n",
    "print(classification_report(y_test20, pred_dtc3))"
   ]
  },
  {
   "cell_type": "code",
   "execution_count": 30,
   "id": "e328e4c8",
   "metadata": {},
   "outputs": [
    {
     "name": "stdout",
     "output_type": "stream",
     "text": [
      "Classification Report for SVM Model with 80% Train & 20% Test \n",
      "\n",
      "              precision    recall  f1-score   support\n",
      "\n",
      "           0       0.91      0.74      0.82        27\n",
      "           1       0.82      0.94      0.88        34\n",
      "\n",
      "    accuracy                           0.85        61\n",
      "   macro avg       0.86      0.84      0.85        61\n",
      "weighted avg       0.86      0.85      0.85        61\n",
      "\n"
     ]
    }
   ],
   "source": [
    "print(\"Classification Report for SVM Model with 80% Train & 20% Test\", '\\n')\n",
    "print(classification_report(y_test20, pred_svm3))"
   ]
  }
 ],
 "metadata": {
  "kernelspec": {
   "display_name": "Python 3",
   "language": "python",
   "name": "python3"
  },
  "language_info": {
   "codemirror_mode": {
    "name": "ipython",
    "version": 3
   },
   "file_extension": ".py",
   "mimetype": "text/x-python",
   "name": "python",
   "nbconvert_exporter": "python",
   "pygments_lexer": "ipython3",
   "version": "3.8.8"
  }
 },
 "nbformat": 4,
 "nbformat_minor": 5
}
